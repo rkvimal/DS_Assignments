{
 "cells": [
  {
   "cell_type": "markdown",
   "metadata": {},
   "source": [
    "1. Given an array, check if it contains any duplicates or not.\n"
   ]
  },
  {
   "cell_type": "code",
   "execution_count": 13,
   "metadata": {},
   "outputs": [
    {
     "name": "stdout",
     "output_type": "stream",
     "text": [
      "Original Array : [1, 2, 4, 2, 5, 9]\n",
      "Given Array contains duplicates\n"
     ]
    }
   ],
   "source": [
    "## Initialize the array\n",
    "arr = [1, 2, 4, 2, 5, 9]\n",
    "\n",
    "print(\"Original Array :\",arr)\n",
    "arr2 = [] ## Initialize an empty list\n",
    "for i in arr:\n",
    "    if i not in arr2:\n",
    "        arr2.append(i) ## Add elements to the arr2 only when it is not available in arr2\n",
    "## Now we compare the length of the two arrays. If they are equal, then Given array does not contains duplicates else Given array contains duplicates\n",
    "if len(arr) == len(arr2):\n",
    "    print(\"Given Array does not contains duplicates\")\n",
    "else:\n",
    "    print(\"Given Array contains duplicates\")"
   ]
  },
  {
   "cell_type": "markdown",
   "metadata": {},
   "source": [
    "Q2. Given an array and an integer k, rotate the array to the right by k steps."
   ]
  },
  {
   "cell_type": "code",
   "execution_count": 2,
   "metadata": {},
   "outputs": [
    {
     "name": "stdout",
     "output_type": "stream",
     "text": [
      "Original Array : [1, 2, 3, 4, 5, 6, 7]\n",
      "k is more than the length of the array\n"
     ]
    }
   ],
   "source": [
    "## Initialize the array\n",
    "arr = [1, 2, 3, 4, 5, 6, 7]\n",
    "print(\"Original Array :\",arr)\n",
    "k = 3\n",
    "\n",
    "### We check if k is more than the length of the array. IF yes then print message else rotate the array using slicing\n",
    "if k>len(arr):\n",
    "    print(\"k is more than the length of the array\")\n",
    "else:\n",
    "    arr = arr[-k -1:]+ arr[:k]\n",
    "    print(\"Changed Array :\",arr)"
   ]
  },
  {
   "cell_type": "markdown",
   "metadata": {},
   "source": [
    "Q3. Reverse the given array in-place, means without using any extra data structure."
   ]
  },
  {
   "cell_type": "code",
   "execution_count": 3,
   "metadata": {},
   "outputs": [
    {
     "name": "stdout",
     "output_type": "stream",
     "text": [
      "Original Array : [2, 4, 5, 7, 9, 12]\n",
      "Reverse Array : [12, 9, 7, 5, 4, 2]\n"
     ]
    }
   ],
   "source": [
    "## Initialize the array\n",
    "arr = [2, 4, 5, 7, 9, 12]\n",
    "print(\"Original Array :\",arr)\n",
    "\n",
    "## We reverse the array using slicing and store it in the original array\n",
    "arr = arr[::-1]\n",
    "print(\"Reverse Array :\",arr)\n"
   ]
  },
  {
   "cell_type": "markdown",
   "metadata": {},
   "source": [
    "Q4. Given an array of integers, find the maximum element in an array\n"
   ]
  },
  {
   "cell_type": "code",
   "execution_count": 4,
   "metadata": {},
   "outputs": [
    {
     "name": "stdout",
     "output_type": "stream",
     "text": [
      "Original Array : [10, 5, 20, 8, 15]\n",
      "Maximum Element of the Given Array is : 20\n"
     ]
    }
   ],
   "source": [
    "## Initialize the array\n",
    "arr = [10, 5, 20, 8, 15]\n",
    "print(\"Original Array :\",arr)\n",
    "max = 0\n",
    "## We iterate thorugh each element and compare it with the previous max value\n",
    "for i in arr:\n",
    "    if i > max:\n",
    "        max = i\n",
    "print(\"Maximum Element of the Given Array is :\",max)"
   ]
  },
  {
   "cell_type": "markdown",
   "metadata": {},
   "source": [
    "Q5. Given a sorted array, remove the duplicate element without using any extra data structure."
   ]
  },
  {
   "cell_type": "code",
   "execution_count": 5,
   "metadata": {},
   "outputs": [
    {
     "name": "stdout",
     "output_type": "stream",
     "text": [
      "Original Array : [1, 1, 2, 2, 2, 3, 3, 4, 4, 4, 5, 5]\n",
      "New Array : [1, 2, 3, 4, 5]\n"
     ]
    }
   ],
   "source": [
    "## Initialize the array\n",
    "arr = [1, 1, 2, 2, 2, 3, 3, 4, 4, 4, 5, 5]\n",
    "print(\"Original Array :\",arr)\n",
    "\n",
    "## We compare each element against the remaining elements using nested for loop and remove the duplicate values\n",
    "for i in arr:\n",
    "    for j in arr:\n",
    "        if j == i:\n",
    "            arr.pop(j)\n",
    "\n",
    "print(\"New Array :\",arr)"
   ]
  }
 ],
 "metadata": {
  "kernelspec": {
   "display_name": "base",
   "language": "python",
   "name": "python3"
  },
  "language_info": {
   "codemirror_mode": {
    "name": "ipython",
    "version": 3
   },
   "file_extension": ".py",
   "mimetype": "text/x-python",
   "name": "python",
   "nbconvert_exporter": "python",
   "pygments_lexer": "ipython3",
   "version": "3.11.4"
  }
 },
 "nbformat": 4,
 "nbformat_minor": 2
}
