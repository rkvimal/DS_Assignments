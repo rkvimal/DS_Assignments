{
 "cells": [
  {
   "cell_type": "markdown",
   "metadata": {},
   "source": [
    "Q1 Find the value of T(2) for the recurrence relation T(n) = 3T(n-1) + 12n , given T(0) = 5"
   ]
  },
  {
   "cell_type": "markdown",
   "metadata": {},
   "source": [
    "Soln:\n",
    "T(0) = 5\n",
    "T(1) = 3*T(0) + 12*1 = 3*5 + 12 = 27\n",
    "T(2) = 3*T(1) + 12*2 = 3*27 + 24 = 105 "
   ]
  },
  {
   "cell_type": "markdown",
   "metadata": {},
   "source": [
    "Q2: Given a recurrence relation, solve it using the substitution method:"
   ]
  },
  {
   "cell_type": "markdown",
   "metadata": {},
   "source": [
    "a) T(n) = T(n-1) + c -------------------------- (1)\n",
    "\n",
    "Let us assume that T(n) has the form T(n) = a*n + b, where a and b are constants.\n",
    "\n",
    "Subsituting in Equation 1, we get\n",
    "\n",
    "a*n + b = a*(n-1) + b + c\n",
    "or, a*n + b = a*n - a + b + c \n",
    "\n",
    "on solving the above equation, we get\n",
    "a = c\n",
    "\n",
    "Subsituting in Equation 1, we get\n",
    "\n",
    "T(n) = c*n + b, where b is a constant\n"
   ]
  },
  {
   "cell_type": "markdown",
   "metadata": {},
   "source": [
    "b) T(n) = 2T(n/2) + n -------------------------- (1)\n",
    "\n",
    "Let us assume that T(n) has the form T(n) = a* n log n  + b*n, where a and b are constants.\n",
    "T(n/2) = a* (n/2) log (n/2)  + b*(n/2)\n",
    "Subsituting in Equation 1, we get\n",
    "\n",
    "a* n log n  + b*n = 2* a* (n/2) log (n/2)  + b*(n/2) + n\n",
    "\n",
    "or, a* n log n  + b*n = a* n log n - a* n log 2 + b*n + n\n",
    "\n",
    "\n",
    "on solving the above equation, we get\n",
    "a = 1 / log 2\n",
    "\n",
    "Subsituting in Equation 1, we get\n",
    "\n",
    "T(n) = n log n / log 2 + b*n, where b is a constant"
   ]
  },
  {
   "cell_type": "markdown",
   "metadata": {},
   "source": [
    "c) T(n) = 2T(n/2) + c -------------------------- (1)\n",
    "\n",
    "Let us assume that T(n) has the form T(n) = a*n + b, where a and b are constants.\n",
    "\n",
    "Subsituting in Equation 1, we get\n",
    "\n",
    "a*n + b = 2a*(n/2) + 2b + c\n",
    "or, a*n + b = a*n  + 2b + c \n",
    "\n",
    "on solving the above equation, we get\n",
    "b = -c\n",
    "\n",
    "\n",
    "Subsituting in Equation 1, we get\n",
    "\n",
    "T(n) = a*n - c, where c is a constant"
   ]
  },
  {
   "cell_type": "markdown",
   "metadata": {},
   "source": [
    "d) T(n) = T(n/2) + c -------------------------- (1)\n",
    "\n",
    "Let us assume that T(n) has the form T(n) = a* log n  + b, where a and b are constants.\n",
    "T(n/2) = a* log (n/2)  + b\n",
    "Subsituting in Equation 1, we get\n",
    "\n",
    "a* log n  + b =  a* log (n/2)  + b + c\n",
    "\n",
    "or, a* log n  + b = a* log n - a* log 2 + b + c\n",
    "\n",
    "\n",
    "on solving the above equation, we get\n",
    "c = a log 2\n",
    "\n",
    "Subsituting in T(n), we get\n",
    "\n",
    "T(n) = a* log n  + b , where a is a constant and a = c / log 2"
   ]
  },
  {
   "cell_type": "markdown",
   "metadata": {},
   "source": [
    "Q3) Given a recurrence relation, solve it using the recursive tree approach:"
   ]
  },
  {
   "cell_type": "markdown",
   "metadata": {},
   "source": [
    "a) T(n) = 2T(n-1) + 1\n",
    "Let, T(1) = c where c is a constant\n",
    "T(2) = 2 * T(1) + 1 = 2c + 1\n",
    "T(3) = 2 * T(2) + 1 = 2*(2c+ 1) + 1 = 2^2 c + 2 + 1\n",
    "T(4) = 2^3 c + 2^2 + 2 + 1\n",
    "T(5) = 2^4 c + 2^3 + 2^2 + 2 + 1\n",
    "\n",
    "\n",
    "T(n) = 2^(n-1) * c + 2^(n-1) .........................+ 1\n",
    "This is a GP which common ratio as 2\n",
    "\n",
    "T(n) = 2^(n-1) * c + (2^n - 1)"
   ]
  },
  {
   "cell_type": "markdown",
   "metadata": {},
   "source": [
    "b) T(n) = 2T(n/2) + n\n",
    "Let, T(1) = c where c is a constant\n",
    "T(2) = 2*T(1) + 2\n",
    "T(4) = 2*T(2) + 2^2 = 2^2 * T(1) + 2 + 2^2 \n",
    "T(8) = 2*T(4) + 2^3 = 2^3 * T(1) + 2^2 + 2^4\n",
    "T(16) = 2*T(8) + 2^4 = 2^4 * T(1) + 2^3 + 2^6\n",
    "\n",
    "\n",
    "T(n) = 2*T(n/2) + 2^(n/2),\n",
    "On Solving this, we get\n",
    "T(n) = c*n + n (log n / log 2)"
   ]
  }
 ],
 "metadata": {
  "kernelspec": {
   "display_name": "base",
   "language": "python",
   "name": "python3"
  },
  "language_info": {
   "name": "python",
   "version": "3.11.4"
  }
 },
 "nbformat": 4,
 "nbformat_minor": 2
}
