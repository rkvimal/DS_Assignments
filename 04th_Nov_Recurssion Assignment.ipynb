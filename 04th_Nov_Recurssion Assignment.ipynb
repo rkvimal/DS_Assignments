{
 "cells": [
  {
   "cell_type": "markdown",
   "metadata": {},
   "source": [
    "Q1) Exlain the logic and working of the Tower of Hanoi algorithm by writing a program"
   ]
  },
  {
   "cell_type": "code",
   "execution_count": 1,
   "metadata": {},
   "outputs": [
    {
     "name": "stdout",
     "output_type": "stream",
     "text": [
      "Move disk 1 from A to C\n",
      "Move disk 2 from A to B\n",
      "Move disk 1 from C to B\n",
      "Move disk 3 from A to C\n",
      "Move disk 1 from B to A\n",
      "Move disk 2 from B to C\n",
      "Move disk 1 from A to C\n"
     ]
    }
   ],
   "source": [
    "#The base case is when there's only one disk to move, in which case it directly moves the disk from the source rod to the target rod. \n",
    "#Otherwise, it recursively moves n-1 disks from the source to the auxiliary rod, then moves the remaining disk from the source to the target rod, \n",
    "# and finally, recursively moves the n-1 disks from the auxiliary to the target rod\n",
    "\n",
    "\n",
    "def tower_of_hanoi(n, source, target, auxiliary):\n",
    "    if n == 1:\n",
    "        print(f\"Move disk 1 from {source} to {target}\")\n",
    "        return\n",
    "    tower_of_hanoi(n-1, source, auxiliary, target)\n",
    "    print(f\"Move disk {n} from {source} to {target}\")\n",
    "    tower_of_hanoi(n-1, auxiliary, target, source)\n",
    "\n",
    "# Example usage:\n",
    "num_disks = 3\n",
    "tower_of_hanoi(num_disks, 'A', 'C', 'B')\n",
    "\n"
   ]
  },
  {
   "cell_type": "markdown",
   "metadata": {},
   "source": [
    "Q2) Given two strings word1 and word2, return the minimum number of operations required to convert word1 to word2"
   ]
  },
  {
   "cell_type": "code",
   "execution_count": 4,
   "metadata": {},
   "outputs": [
    {
     "name": "stdout",
     "output_type": "stream",
     "text": [
      "Minimum No of Operations Required : 3\n"
     ]
    }
   ],
   "source": [
    "def min_distance(word1, word2):\n",
    "    def min_distance_recursive(i, j):\n",
    "        # Base cases\n",
    "        if i == -1:\n",
    "            return j + 1\n",
    "        if j == -1:\n",
    "            return i + 1\n",
    "\n",
    "        # If the characters match, no operation is needed\n",
    "        if word1[i] == word2[j]:\n",
    "            return min_distance_recursive(i - 1, j - 1)\n",
    "\n",
    "        # Calculate the minimum among deletion, insertion, and substitution\n",
    "        return 1 + min(\n",
    "            min_distance_recursive(i - 1, j),      # Deletion\n",
    "            min_distance_recursive(i, j - 1),      # Insertion\n",
    "            min_distance_recursive(i - 1, j - 1)    # Substitution\n",
    "        )\n",
    "\n",
    "    # Start the recursive calculation from the end of both strings\n",
    "    return min_distance_recursive(len(word1) - 1, len(word2) - 1)\n",
    "\n",
    "## Testing the above function for the given words\n",
    "word1 = \"horse\"\n",
    "word2 = \"ros\"\n",
    "result = min_distance(word1, word2)\n",
    "print(\"Minimum No of Operations Required :\",result)\n"
   ]
  },
  {
   "cell_type": "markdown",
   "metadata": {},
   "source": [
    "Q3) Print the max value of the array [13,1,-3,22,5]"
   ]
  },
  {
   "cell_type": "code",
   "execution_count": 7,
   "metadata": {},
   "outputs": [
    {
     "name": "stdout",
     "output_type": "stream",
     "text": [
      "The maximum value in the array is: 220\n"
     ]
    }
   ],
   "source": [
    "def max_element(arr, n):\n",
    "    # Base case: If the array has only one element, it is the maximum\n",
    "    if n == 1:\n",
    "        return arr[0]\n",
    "\n",
    "    # Recursive case: Compare the maximum of the rest of the array with the last element\n",
    "    max_of_rest = max_element(arr, n - 1)\n",
    "\n",
    "    # Return the maximum of the current element and the maximum of the rest\n",
    "    if max_of_rest > arr[n - 1]:\n",
    "        return max_of_rest\n",
    "    else:\n",
    "        return arr[n - 1]\n",
    "\n",
    "# Given array:\n",
    "arr = [13, 1, -3, 22, 5]\n",
    "max_value = max_element(arr, len(arr))\n",
    "\n",
    "print(\"The maximum value in the array is:\", max_value)\n"
   ]
  },
  {
   "cell_type": "markdown",
   "metadata": {},
   "source": [
    "Q4) Find the sum of the values of the array [92,23,15,-20,10]"
   ]
  },
  {
   "cell_type": "code",
   "execution_count": 14,
   "metadata": {},
   "outputs": [
    {
     "name": "stdout",
     "output_type": "stream",
     "text": [
      "The sum value in the array is: 120\n"
     ]
    }
   ],
   "source": [
    "def sum_array(arr,n):\n",
    "    # Base case: If the array has only one element, it is the sum\n",
    "    if n == 1:\n",
    "        return arr[0]    \n",
    "    # Recursive case: return the sum of the rest of the array with the last element\n",
    "    return arr[n-1] + sum_array(arr, n - 1)\n",
    "\n",
    "\n",
    "# Given array:\n",
    "arr = [92,23,15,-20,10]\n",
    "sum_array = sum_array(arr, len(arr))\n",
    "\n",
    "print(\"The sum value in the array is:\", sum_array)"
   ]
  },
  {
   "cell_type": "markdown",
   "metadata": {},
   "source": [
    "Q5) Given a number n. Print if it is an armstrong number or not."
   ]
  },
  {
   "cell_type": "code",
   "execution_count": 13,
   "metadata": {},
   "outputs": [
    {
     "name": "stdout",
     "output_type": "stream",
     "text": [
      "Given no is an Armstrong No\n"
     ]
    }
   ],
   "source": [
    "def Armstrong(n):\n",
    "    # Base case:\n",
    "    if n < 10:\n",
    "        return n**3    \n",
    "    # Recursive case: return the sum of the cube of rest of the digits\n",
    "    return (n%10)**3 + Armstrong(n//10)\n",
    "\n",
    "## Driver code\n",
    "n = 153\n",
    "result = Armstrong(n)\n",
    "if n == result:\n",
    "    print(\"Given no is an Armstrong No\")\n",
    "else:\n",
    "    print(\"Given no is not an Armstrong No\")\n"
   ]
  },
  {
   "cell_type": "code",
   "execution_count": null,
   "metadata": {},
   "outputs": [],
   "source": []
  }
 ],
 "metadata": {
  "kernelspec": {
   "display_name": "base",
   "language": "python",
   "name": "python3"
  },
  "language_info": {
   "codemirror_mode": {
    "name": "ipython",
    "version": 3
   },
   "file_extension": ".py",
   "mimetype": "text/x-python",
   "name": "python",
   "nbconvert_exporter": "python",
   "pygments_lexer": "ipython3",
   "version": "3.11.4"
  }
 },
 "nbformat": 4,
 "nbformat_minor": 2
}
