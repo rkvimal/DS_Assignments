{
 "cells": [
  {
   "cell_type": "markdown",
   "metadata": {},
   "source": [
    "# TOPIC: Python Basics Variable"
   ]
  },
  {
   "cell_type": "markdown",
   "metadata": {},
   "source": [
    "Q1 Declare two variables, `x` and `y`, and assign them integer values. Swap the\n",
    "values of these variables without using any temporary variable."
   ]
  },
  {
   "cell_type": "code",
   "execution_count": 7,
   "metadata": {},
   "outputs": [
    {
     "name": "stdout",
     "output_type": "stream",
     "text": [
      "Original Values : x =  5 , y =  7\n",
      "New Values : x =  7 , y =  5\n"
     ]
    }
   ],
   "source": [
    "## Initialize the variables x and y\n",
    "x = 5\n",
    "y = 7\n",
    "print(\"Original Values :\",\"x = \",x,\", y = \",y)\n",
    "\n",
    "## Now we swap the values of the variables\n",
    "x,y = y,x\n",
    "print(\"New Values :\",\"x = \",x,\", y = \",y)"
   ]
  },
  {
   "cell_type": "markdown",
   "metadata": {},
   "source": [
    "2. Create a program that calculates the area of a rectangle. Take the length and\n",
    "width as inputs from the user and store them in variables. Calculate and\n",
    "display the area."
   ]
  },
  {
   "cell_type": "code",
   "execution_count": 11,
   "metadata": {},
   "outputs": [
    {
     "name": "stdout",
     "output_type": "stream",
     "text": [
      "Area of the Rectangle is  10\n"
     ]
    }
   ],
   "source": [
    "## Ask the User to Enter Length of the Rectangle\n",
    "length = int(input(\"Enter Length of the Rectangle :\"))\n",
    "\n",
    "## Ask the User to Enter Breadth of the Rectangle\n",
    "breadth = int(input(\"Enter Breadth of the Rectangle :\"))\n",
    "\n",
    "## Calculate Area of the Rectangle & then print the Area\n",
    "Area = length * breadth\n",
    "print(\"Area of the Rectangle is \",Area)\n"
   ]
  },
  {
   "cell_type": "markdown",
   "metadata": {},
   "source": [
    "3. Write a Python program that converts temperatures from Celsius to\n",
    "Fahrenheit. Take the temperature in Celsius as input, store it in a variable,\n",
    "convert it to Fahrenheit, and display the result."
   ]
  },
  {
   "cell_type": "code",
   "execution_count": 15,
   "metadata": {},
   "outputs": [
    {
     "name": "stdout",
     "output_type": "stream",
     "text": [
      "Temperature in degree Fahrenheit : 78.8\n"
     ]
    }
   ],
   "source": [
    "## Ask the User to Enter Temperature in degree Celsius\n",
    "temp_cel = int(input(\"Enter Temperature in degree Celsius :\"))\n",
    "\n",
    "## Calculate Temperature in degree Fahrenheit using the formulae: °F = (°C × 9/5) + 32\n",
    "temp_Far = temp_cel * (9/5) + 32\n",
    "print(\"Temperature in degree Fahrenheit :\",round(temp_Far,2))"
   ]
  },
  {
   "cell_type": "markdown",
   "metadata": {},
   "source": [
    "# TOPIC: String Based Questions"
   ]
  },
  {
   "cell_type": "markdown",
   "metadata": {},
   "source": [
    "1. Write a Python program that takes a string as input and prints the length of\n",
    "the string."
   ]
  },
  {
   "cell_type": "code",
   "execution_count": 17,
   "metadata": {},
   "outputs": [
    {
     "name": "stdout",
     "output_type": "stream",
     "text": [
      "Length of the string :  11\n"
     ]
    }
   ],
   "source": [
    "## Ask the User to Enter A String\n",
    "string = input(\"Enter A String :\")\n",
    "\n",
    "## Print the Length of the string\n",
    "print(\"Length of the string : \",len(string))\n"
   ]
  },
  {
   "cell_type": "markdown",
   "metadata": {},
   "source": [
    "2. Create a program that takes a sentence from the user and counts the number\n",
    "of vowels (a, e, i, o, u) in the string."
   ]
  },
  {
   "cell_type": "code",
   "execution_count": 20,
   "metadata": {},
   "outputs": [
    {
     "name": "stdout",
     "output_type": "stream",
     "text": [
      "No of alphabet 'a' in the given string : 0\n",
      "No of alphabet 'e' in the given string : 0\n",
      "No of alphabet 'i' in the given string : 0\n",
      "No of alphabet 'o' in the given string : 2\n",
      "No of alphabet 'u' in the given string : 0\n"
     ]
    }
   ],
   "source": [
    "## Ask the User to Enter A String\n",
    "string = input(\"Enter A String :\")\n",
    "\n",
    "## Convert the string to lower case\n",
    "string = string.lower()\n",
    "\n",
    "## Now we will calculate the Volwels and print their Frequency\n",
    "a = string.count('a')\n",
    "print(\"No of alphabet 'a' in the given string :\",a)\n",
    "\n",
    "e = string.count('e')\n",
    "print(\"No of alphabet 'e' in the given string :\",e)\n",
    "\n",
    "i = string.count('i')\n",
    "print(\"No of alphabet 'i' in the given string :\",i)\n",
    "\n",
    "o = string.count('o')\n",
    "print(\"No of alphabet 'o' in the given string :\",o)\n",
    "\n",
    "u = string.count('u')\n",
    "print(\"No of alphabet 'u' in the given string :\",u)\n"
   ]
  },
  {
   "cell_type": "markdown",
   "metadata": {},
   "source": [
    "3. Given a string, reverse the order of characters using string slicing and print\n",
    "the reversed string."
   ]
  },
  {
   "cell_type": "code",
   "execution_count": 25,
   "metadata": {},
   "outputs": [
    {
     "name": "stdout",
     "output_type": "stream",
     "text": [
      "Original String : Hello Python\n",
      "Reversed String : nohtyP olleH\n"
     ]
    }
   ],
   "source": [
    "## Initializing a String\n",
    "string = \"Hello Python\"\n",
    "\n",
    "# Print Original String \n",
    "print(\"Original String :\",string)\n",
    "\n",
    "# Print Reversed String \n",
    "print(\"Reversed String :\",string[::-1])"
   ]
  },
  {
   "cell_type": "markdown",
   "metadata": {},
   "source": [
    "4. Write a program that takes a string as input and checks if it is a palindrome\n",
    "(reads the same forwards and backwards)."
   ]
  },
  {
   "cell_type": "code",
   "execution_count": 29,
   "metadata": {},
   "outputs": [
    {
     "name": "stdout",
     "output_type": "stream",
     "text": [
      "String is not palindrome\n"
     ]
    }
   ],
   "source": [
    "## Ask the User to Enter A String\n",
    "string = input(\"Enter A String :\")\n",
    "\n",
    "## Generate Reverse String\n",
    "reversed_string = string[::-1]\n",
    "\n",
    "## Print String is Palindrome if the string is equal to reversed string else String is not palindrome\n",
    "if(string == reversed_string):\n",
    "    print(\"String is Palindrome\") \n",
    "else: print(\"String is not palindrome\")"
   ]
  },
  {
   "cell_type": "markdown",
   "metadata": {},
   "source": [
    "5. Create a program that takes a string as input and removes all the spaces from\n",
    "it. Print the modified string without spaces."
   ]
  },
  {
   "cell_type": "code",
   "execution_count": 30,
   "metadata": {},
   "outputs": [
    {
     "name": "stdout",
     "output_type": "stream",
     "text": [
      "Original String : Hello Python  \n",
      "Trimmed String : HelloPython\n"
     ]
    }
   ],
   "source": [
    "## Ask the User to Enter A String\n",
    "string = input(\"Enter A String :\")\n",
    "\n",
    "# Print Original String \n",
    "print(\"Original String :\",string)\n",
    "\n",
    "trimmed_string = string.replace(\" \",\"\")\n",
    "\n",
    "# Print trimmed String \n",
    "print(\"Trimmed String :\",trimmed_string)"
   ]
  },
  {
   "cell_type": "code",
   "execution_count": null,
   "metadata": {},
   "outputs": [],
   "source": []
  }
 ],
 "metadata": {
  "kernelspec": {
   "display_name": "minimal_ds",
   "language": "python",
   "name": "python3"
  },
  "language_info": {
   "codemirror_mode": {
    "name": "ipython",
    "version": 3
   },
   "file_extension": ".py",
   "mimetype": "text/x-python",
   "name": "python",
   "nbconvert_exporter": "python",
   "pygments_lexer": "ipython3",
   "version": "3.10.4"
  },
  "orig_nbformat": 4
 },
 "nbformat": 4,
 "nbformat_minor": 2
}
